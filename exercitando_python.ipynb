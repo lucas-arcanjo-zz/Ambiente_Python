{
  "nbformat": 4,
  "nbformat_minor": 0,
  "metadata": {
    "colab": {
      "name": "treinandopython.ipynb",
      "provenance": [],
      "authorship_tag": "ABX9TyNLVq5beZO5Szif+m1YoVrJ",
      "include_colab_link": true
    },
    "kernelspec": {
      "name": "python3",
      "display_name": "Python 3"
    }
  },
  "cells": [
    {
      "cell_type": "markdown",
      "metadata": {
        "id": "view-in-github",
        "colab_type": "text"
      },
      "source": [
        "<a href=\"https://colab.research.google.com/github/lucas-arcanjo/Se_aprofundando_em_Python/blob/master/exercitando_python.ipynb\" target=\"_parent\"><img src=\"https://colab.research.google.com/assets/colab-badge.svg\" alt=\"Open In Colab\"/></a>"
      ]
    },
    {
      "cell_type": "code",
      "metadata": {
        "id": "CT0USIKxM8Jx",
        "colab_type": "code",
        "colab": {
          "base_uri": "https://localhost:8080/",
          "height": 51
        },
        "outputId": "6ead2459-c30e-4e08-8e48-ba0bde8412ed"
      },
      "source": [
        "n1 =  int(input(\"Digíte um número: \"))\n",
        "n2 = n1 + 1\n",
        "n3 = n1 - 1\n",
        "print (\"O Sucesso de {} é {}, e o antecessor é {}\".format(n1,n2,n3))"
      ],
      "execution_count": null,
      "outputs": [
        {
          "output_type": "stream",
          "text": [
            "Digíte um número: 0\n",
            "O Sucesso de 0 é 1, e o antecessor é -1\n"
          ],
          "name": "stdout"
        }
      ]
    },
    {
      "cell_type": "code",
      "metadata": {
        "id": "n8KL2gmCOx9M",
        "colab_type": "code",
        "colab": {}
      },
      "source": [
        ""
      ],
      "execution_count": null,
      "outputs": []
    }
  ]
}