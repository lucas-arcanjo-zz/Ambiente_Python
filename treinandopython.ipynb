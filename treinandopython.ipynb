{
  "nbformat": 4,
  "nbformat_minor": 0,
  "metadata": {
    "colab": {
      "name": "treinandopython.ipynb",
      "provenance": [],
      "authorship_tag": "ABX9TyNFlojTr6gFqOa4LGOKnZHF",
      "include_colab_link": true
    },
    "kernelspec": {
      "name": "python3",
      "display_name": "Python 3"
    }
  },
  "cells": [
    {
      "cell_type": "markdown",
      "metadata": {
        "id": "view-in-github",
        "colab_type": "text"
      },
      "source": [
        "<a href=\"https://colab.research.google.com/github/lucas-arcanjo/Se_aprofundando_em_Python/blob/master/treinandopython.ipynb\" target=\"_parent\"><img src=\"https://colab.research.google.com/assets/colab-badge.svg\" alt=\"Open In Colab\"/></a>"
      ]
    },
    {
      "cell_type": "code",
      "metadata": {
        "id": "dj9hij8ZS556",
        "colab_type": "code",
        "colab": {
          "base_uri": "https://localhost:8080/",
          "height": 34
        },
        "outputId": "c6b62275-5861-4692-8dd8-d4c8cfb46b9c"
      },
      "source": [
        "#DESAFIO 01\n",
        "#Crie um programa que escreva \"Olá, Mundo!\"na tela.\n",
        "\n",
        "print(\"Olá, Mundo!\")"
      ],
      "execution_count": 8,
      "outputs": [
        {
          "output_type": "stream",
          "text": [
            "Olá, Mundo!\n"
          ],
          "name": "stdout"
        }
      ]
    },
    {
      "cell_type": "code",
      "metadata": {
        "id": "7jLt7mzUTrJx",
        "colab_type": "code",
        "colab": {
          "base_uri": "https://localhost:8080/",
          "height": 51
        },
        "outputId": "7e88644f-89bf-4c5a-9e23-410d44e6dffe"
      },
      "source": [
        "#DESAFIO 02\n",
        "#Faça um programa que leia o nome de uma pessoa e mostre uma mensagem de boas-vindas.\n",
        "nome=str(input(\"Digíte seu nome: \"))\n",
        "print(\"Seja bem-vindo {}!\".format(nome))"
      ],
      "execution_count": 13,
      "outputs": [
        {
          "output_type": "stream",
          "text": [
            "Digíte seu nome: Lucasa\n",
            "Seja bem-vindo Lucasa!\n"
          ],
          "name": "stdout"
        }
      ]
    },
    {
      "cell_type": "code",
      "metadata": {
        "id": "BuCcIVQBVXQV",
        "colab_type": "code",
        "colab": {
          "base_uri": "https://localhost:8080/",
          "height": 68
        },
        "outputId": "b655f22a-fd97-4143-896b-aa4c4536959d"
      },
      "source": [
        "#DESAFIO 03\n",
        "#Escreva um programa que leia dois números e mostre a soma entre eles.\n",
        "n1=int(input(\"Digíte um número: \"))\n",
        "n2=int(input(\"Digíte outro número: \"))\n",
        "soma=n1+n2\n",
        "print(\"A soma de {} + {} é {}\".format(n1, n2, soma))"
      ],
      "execution_count": 14,
      "outputs": [
        {
          "output_type": "stream",
          "text": [
            "Digíte um número: 8\n",
            "Digíte outro número: 9\n",
            "A soma de 8 + 9 é 17\n"
          ],
          "name": "stdout"
        }
      ]
    },
    {
      "cell_type": "code",
      "metadata": {
        "id": "Ow9S9GrqWhjx",
        "colab_type": "code",
        "colab": {}
      },
      "source": [
        ""
      ],
      "execution_count": null,
      "outputs": []
    }
  ]
}